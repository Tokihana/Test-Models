{
 "cells": [
  {
   "cell_type": "code",
   "execution_count": 3,
   "id": "ac780483-4072-49d5-a35c-b713a7e87107",
   "metadata": {
    "tags": []
   },
   "outputs": [],
   "source": [
    "import torch\n",
    "import torch.nn as nn\n",
    "from timm.layers.helpers import make_divisible"
   ]
  },
  {
   "cell_type": "code",
   "execution_count": 4,
   "id": "4e0996f4-8bde-42aa-9a2f-72b57c94e737",
   "metadata": {
    "tags": []
   },
   "outputs": [],
   "source": [
    "x = torch.rand((5, 50, 512)) # B, N, C"
   ]
  },
  {
   "cell_type": "code",
   "execution_count": 17,
   "id": "bc880b43-bd66-4a25-a711-0d166c090421",
   "metadata": {
    "tags": []
   },
   "outputs": [
    {
     "data": {
      "text/plain": [
       "torch.Size([5, 512, 1])"
      ]
     },
     "execution_count": 17,
     "metadata": {},
     "output_type": "execute_result"
    }
   ],
   "source": [
    "x_se = x.permute(0, 2, 1) # BNC -> BCN\n",
    "x_se = x_se.mean(dim=2, keepdim=True)\n",
    "x_se.shape"
   ]
  },
  {
   "cell_type": "code",
   "execution_count": 18,
   "id": "2190ab8e-c67e-409c-8666-5ea45808ff9a",
   "metadata": {
    "tags": []
   },
   "outputs": [],
   "source": [
    "# Conv1d inputs: (N, C, L), N: batch size, C: channels, L: sequence length\n",
    "chans = 512\n",
    "rd_chans = 32"
   ]
  },
  {
   "cell_type": "code",
   "execution_count": 19,
   "id": "5e7c8d13-4a92-4e97-bc5e-306e93ab1752",
   "metadata": {
    "tags": []
   },
   "outputs": [],
   "source": [
    "fc1 = nn.Conv1d(chans, rd_chans, kernel_size=1)"
   ]
  },
  {
   "cell_type": "code",
   "execution_count": 20,
   "id": "6bc65fa2-97e7-4fbf-bc95-9547818cde85",
   "metadata": {
    "tags": []
   },
   "outputs": [
    {
     "data": {
      "text/plain": [
       "torch.Size([5, 32, 1])"
      ]
     },
     "execution_count": 20,
     "metadata": {},
     "output_type": "execute_result"
    }
   ],
   "source": [
    "x_se = fc1(x_se)\n",
    "x_se.shape"
   ]
  },
  {
   "cell_type": "code",
   "execution_count": 21,
   "id": "9b0d3410-43fe-4ce2-8f78-ab4006306095",
   "metadata": {
    "tags": []
   },
   "outputs": [],
   "source": [
    "bn = nn.BatchNorm1d(rd_chans)"
   ]
  },
  {
   "cell_type": "code",
   "execution_count": 22,
   "id": "1bdf3b8c-22ca-4400-9da5-adec2f22f776",
   "metadata": {
    "tags": []
   },
   "outputs": [
    {
     "data": {
      "text/plain": [
       "torch.Size([5, 32, 1])"
      ]
     },
     "execution_count": 22,
     "metadata": {},
     "output_type": "execute_result"
    }
   ],
   "source": [
    "x_se = bn(x_se)\n",
    "x_se.shape"
   ]
  },
  {
   "cell_type": "code",
   "execution_count": 23,
   "id": "2b9f59a2-199e-4b69-b349-31f47e4ba6da",
   "metadata": {
    "tags": []
   },
   "outputs": [],
   "source": [
    "act = nn.ReLU()"
   ]
  },
  {
   "cell_type": "code",
   "execution_count": 24,
   "id": "98f82a6f-7271-4ba5-8263-ebf4c3349039",
   "metadata": {
    "tags": []
   },
   "outputs": [],
   "source": [
    "x_se = act(x_se)"
   ]
  },
  {
   "cell_type": "code",
   "execution_count": 26,
   "id": "c8bf1a73-11e6-4304-9774-74dfea47cbc1",
   "metadata": {
    "tags": []
   },
   "outputs": [
    {
     "data": {
      "text/plain": [
       "torch.Size([5, 512, 1])"
      ]
     },
     "execution_count": 26,
     "metadata": {},
     "output_type": "execute_result"
    }
   ],
   "source": [
    "fc2 = nn.Conv1d(rd_chans, chans, kernel_size=1)\n",
    "x_se = fc2(x_se)\n",
    "x_se.shape"
   ]
  },
  {
   "cell_type": "code",
   "execution_count": 28,
   "id": "45fceabe-fbae-46ce-adfc-cd1110f5527e",
   "metadata": {
    "tags": []
   },
   "outputs": [],
   "source": [
    "gate = nn.Sigmoid()\n",
    "x_se = gate(x_se)"
   ]
  },
  {
   "cell_type": "code",
   "execution_count": 30,
   "id": "09f190af-5d09-4ad8-b3d2-8db0386e18b0",
   "metadata": {
    "tags": []
   },
   "outputs": [
    {
     "data": {
      "text/plain": [
       "torch.Size([5, 50, 512])"
      ]
     },
     "execution_count": 30,
     "metadata": {},
     "output_type": "execute_result"
    }
   ],
   "source": [
    "(x*x_se.permute(0, 2, 1)).shape"
   ]
  },
  {
   "cell_type": "code",
   "execution_count": null,
   "id": "728f6e9d-de3a-4036-ad91-902547ee3e1b",
   "metadata": {},
   "outputs": [],
   "source": []
  }
 ],
 "metadata": {
  "kernelspec": {
   "display_name": "Python 3 (ipykernel)",
   "language": "python",
   "name": "python3"
  },
  "language_info": {
   "codemirror_mode": {
    "name": "ipython",
    "version": 3
   },
   "file_extension": ".py",
   "mimetype": "text/x-python",
   "name": "python",
   "nbconvert_exporter": "python",
   "pygments_lexer": "ipython3",
   "version": "3.9.13"
  }
 },
 "nbformat": 4,
 "nbformat_minor": 5
}
