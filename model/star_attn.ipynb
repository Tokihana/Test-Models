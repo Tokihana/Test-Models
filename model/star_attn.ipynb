{
 "cells": [
  {
   "cell_type": "code",
   "execution_count": 1,
   "id": "c913c145-2d9f-4640-a555-4fd8f84d17bc",
   "metadata": {
    "tags": []
   },
   "outputs": [],
   "source": [
    "import torch\n",
    "import torch.nn as nn"
   ]
  },
  {
   "cell_type": "code",
   "execution_count": 2,
   "id": "aae6df42-05ac-4f27-aa1b-c858f2c82a81",
   "metadata": {
    "tags": []
   },
   "outputs": [],
   "source": [
    "B = 5\n",
    "N = 49\n",
    "C = 512\n",
    "num_head = 8\n",
    "scale = C//num_head ** -0.5"
   ]
  },
  {
   "cell_type": "code",
   "execution_count": 3,
   "id": "88ea5378-52d3-4f52-a4b5-b7a5ccb21957",
   "metadata": {
    "tags": []
   },
   "outputs": [],
   "source": [
    "W = nn.Linear(C, C*3, bias=True)\n",
    "x = torch.rand((B, N, C))"
   ]
  },
  {
   "cell_type": "code",
   "execution_count": 4,
   "id": "b8e21953-03d9-4025-80e6-b4734d8f7115",
   "metadata": {
    "tags": []
   },
   "outputs": [],
   "source": [
    "# BNC -> BN(3*C) -> BN3H(C/H) -> 3BHN(C/H)\n",
    "q, k, v = W(x).reshape(B, N, 3, num_head, C//num_head).permute(2, 0, 3, 1, 4).unbind()"
   ]
  },
  {
   "cell_type": "code",
   "execution_count": 5,
   "id": "fe673256-b112-47e5-ae7d-ce6931727ec4",
   "metadata": {
    "tags": []
   },
   "outputs": [
    {
     "data": {
      "text/plain": [
       "torch.Size([5, 8, 49, 1])"
      ]
     },
     "execution_count": 5,
     "metadata": {},
     "output_type": "execute_result"
    }
   ],
   "source": [
    "# BHN(C/H)\n",
    "tanh = nn.Tanh()\n",
    "attn = tanh(q * k).sum(axis=-1, keepdim=True) * scale\n",
    "# attn = attn.unsqueeze(-1)\n",
    "attn.shape"
   ]
  },
  {
   "cell_type": "code",
   "execution_count": 7,
   "id": "2822d066-f93e-457f-a9d6-7b2e3aa0b484",
   "metadata": {
    "tags": []
   },
   "outputs": [
    {
     "data": {
      "text/plain": [
       "torch.Size([5, 8, 49, 64])"
      ]
     },
     "execution_count": 7,
     "metadata": {},
     "output_type": "execute_result"
    }
   ],
   "source": [
    "# BHN(C/H)\n",
    "out = attn * v\n",
    "out.shape"
   ]
  },
  {
   "cell_type": "code",
   "execution_count": null,
   "id": "135b92ad-a292-4049-8827-bf9f8b84b848",
   "metadata": {},
   "outputs": [],
   "source": []
  },
  {
   "cell_type": "markdown",
   "id": "d2611021-8d98-429c-8688-96317833ccd3",
   "metadata": {},
   "source": [
    "# block test "
   ]
  },
  {
   "cell_type": "code",
   "execution_count": 8,
   "id": "b4fdfb3b-9cc1-438a-a9b4-b5ba86116e1e",
   "metadata": {
    "tags": []
   },
   "outputs": [],
   "source": [
    "from star_attn import StarAttention, StarBlock"
   ]
  },
  {
   "cell_type": "code",
   "execution_count": 9,
   "id": "3dc9458e-a6b1-419e-a1fc-b5b99c951946",
   "metadata": {
    "tags": []
   },
   "outputs": [],
   "source": [
    "attention = StarAttention(dim=C, num_heads=8)"
   ]
  },
  {
   "cell_type": "code",
   "execution_count": 10,
   "id": "70250883-f9c4-44f1-bf5b-4bdaceb84489",
   "metadata": {
    "tags": []
   },
   "outputs": [
    {
     "data": {
      "text/plain": [
       "torch.Size([5, 49, 512])"
      ]
     },
     "execution_count": 10,
     "metadata": {},
     "output_type": "execute_result"
    }
   ],
   "source": [
    "attn = attention(x)\n",
    "attn.shape"
   ]
  },
  {
   "cell_type": "code",
   "execution_count": 14,
   "id": "58e7c1a7-a602-4b64-a7a3-3a1d6ac432e7",
   "metadata": {
    "tags": []
   },
   "outputs": [
    {
     "ename": "NameError",
     "evalue": "name 'NonMultiCLSBlock_catAfterMlp' is not defined",
     "output_type": "error",
     "traceback": [
      "\u001b[1;31m---------------------------------------------------------------------------\u001b[0m",
      "\u001b[1;31mNameError\u001b[0m                                 Traceback (most recent call last)",
      "Cell \u001b[1;32mIn[14], line 15\u001b[0m\n\u001b[0;32m     13\u001b[0m act_layer: nn\u001b[38;5;241m.\u001b[39mModule \u001b[38;5;241m=\u001b[39m nn\u001b[38;5;241m.\u001b[39mGELU\n\u001b[0;32m     14\u001b[0m norm_layer: nn\u001b[38;5;241m.\u001b[39mModule \u001b[38;5;241m=\u001b[39m nn\u001b[38;5;241m.\u001b[39mLayerNorm\n\u001b[1;32m---> 15\u001b[0m block: nn\u001b[38;5;241m.\u001b[39mModule\u001b[38;5;241m=\u001b[39m\u001b[43mNonMultiCLSBlock_catAfterMlp\u001b[49m\n\u001b[0;32m     16\u001b[0m add_to_patch: \u001b[38;5;28mbool\u001b[39m \u001b[38;5;241m=\u001b[39m \u001b[38;5;28;01mFalse\u001b[39;00m\n\u001b[0;32m     17\u001b[0m encoder_se: \u001b[38;5;28mbool\u001b[39m \u001b[38;5;241m=\u001b[39m \u001b[38;5;28;01mFalse\u001b[39;00m\n",
      "\u001b[1;31mNameError\u001b[0m: name 'NonMultiCLSBlock_catAfterMlp' is not defined"
     ]
    }
   ],
   "source": [
    "img_size: int=112\n",
    "embed_len: int=196\n",
    "embed_dim: int=256\n",
    "num_heads: int = 8\n",
    "mlp_ratio: float = 4.\n",
    "qkv_bias=False\n",
    "#init_values: Optional[float]=None\n",
    "attn_drop: float = 0.\n",
    "proj_drop: float = 0.\n",
    "drop_path: float = 0.\n",
    "depth: int = 8\n",
    "num_classes: int = 7\n",
    "act_layer: nn.Module = nn.GELU\n",
    "norm_layer: nn.Module = nn.LayerNorm\n",
    "block: nn.Module=NonMultiCLSBlock_catAfterMlp\n",
    "add_to_patch: bool = False\n",
    "encoder_se: bool = False"
   ]
  },
  {
   "cell_type": "code",
   "execution_count": 18,
   "id": "48567d9c-e051-4653-a1c1-3676777a2a33",
   "metadata": {
    "tags": []
   },
   "outputs": [
    {
     "data": {
      "text/plain": [
       "StarBlock(\n",
       "  (norm1): LayerNorm((256,), eps=1e-05, elementwise_affine=True)\n",
       "  (attn): StarAttention(\n",
       "    (tanh): Tanh()\n",
       "    (Wq): Linear(in_features=256, out_features=256, bias=False)\n",
       "    (Wk): Linear(in_features=256, out_features=256, bias=False)\n",
       "    (Wv): Linear(in_features=256, out_features=256, bias=False)\n",
       "    (attn_drop): Dropout(p=0.0, inplace=False)\n",
       "    (proj): Linear(in_features=256, out_features=256, bias=True)\n",
       "    (proj_drop): Dropout(p=0.0, inplace=False)\n",
       "  )\n",
       "  (ls1): Identity()\n",
       "  (drop_path1): DropPath(drop_prob=0.500)\n",
       "  (norm2): LayerNorm((256,), eps=1e-05, elementwise_affine=True)\n",
       "  (mlp): Mlp(\n",
       "    (fc1): Linear(in_features=256, out_features=1024, bias=True)\n",
       "    (act): GELU(approximate='none')\n",
       "    (drop1): Dropout(p=0.0, inplace=False)\n",
       "    (norm): Identity()\n",
       "    (fc2): Linear(in_features=1024, out_features=256, bias=True)\n",
       "    (drop2): Dropout(p=0.0, inplace=False)\n",
       "  )\n",
       "  (ls2): Identity()\n",
       "  (drop_path2): DropPath(drop_prob=0.500)\n",
       ")"
      ]
     },
     "execution_count": 18,
     "metadata": {},
     "output_type": "execute_result"
    }
   ],
   "source": [
    "StarBlock(dim=embed_dim, num_heads=num_heads, mlp_ratio=mlp_ratio, qkv_bias=qkv_bias,\n",
    "                  init_values=init_values,\n",
    "                  attn_drop=attn_drop, proj_drop=proj_drop, drop_path=0.5, act_layer=act_layer, norm_layer=norm_layer,  )"
   ]
  },
  {
   "cell_type": "code",
   "execution_count": null,
   "id": "aa854b1c-262a-499a-9ec5-641b76825e89",
   "metadata": {},
   "outputs": [],
   "source": []
  }
 ],
 "metadata": {
  "kernelspec": {
   "display_name": "Python 3 (ipykernel)",
   "language": "python",
   "name": "python3"
  },
  "language_info": {
   "codemirror_mode": {
    "name": "ipython",
    "version": 3
   },
   "file_extension": ".py",
   "mimetype": "text/x-python",
   "name": "python",
   "nbconvert_exporter": "python",
   "pygments_lexer": "ipython3",
   "version": "3.9.13"
  }
 },
 "nbformat": 4,
 "nbformat_minor": 5
}
