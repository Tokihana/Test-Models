{
 "cells": [
  {
   "cell_type": "code",
   "execution_count": 3,
   "id": "2cc44466-ace3-48ea-a304-1da309bc372f",
   "metadata": {
    "tags": []
   },
   "outputs": [],
   "source": [
    "# test Mlp \n",
    "import torch\n",
    "import torch.nn as nn\n",
    "from timm.layers.helpers import to_2tuple\n",
    "from functools import partial\n",
    "from thop import profile,clever_format "
   ]
  },
  {
   "cell_type": "code",
   "execution_count": 2,
   "id": "0964fed5-9e2e-4ecc-9cbf-08318a176cff",
   "metadata": {
    "tags": []
   },
   "outputs": [],
   "source": [
    "class Mlp(nn.Module):\n",
    "    def __init__(\n",
    "            self,\n",
    "            in_features,\n",
    "            hidden_features=None,\n",
    "            out_features=None,\n",
    "            act_layer=nn.GELU,\n",
    "            norm_layer=None,\n",
    "            bias=True,\n",
    "            drop=0.,\n",
    "            use_conv=False,\n",
    "    ):\n",
    "        super().__init__()\n",
    "        self.use_conv=use_conv\n",
    "        out_features = out_features or in_features\n",
    "        hidden_features = hidden_features or in_features\n",
    "        bias = to_2tuple(bias)\n",
    "        drop_probs = to_2tuple(drop)\n",
    "        linear_layer = partial(nn.Conv1d, kernel_size=1) if use_conv else nn.Linear\n",
    "\n",
    "        self.fc1 = linear_layer(in_features, hidden_features, bias=bias[0])\n",
    "        self.act = act_layer()\n",
    "        self.drop1 = nn.Dropout(drop_probs[0])\n",
    "        self.norm = norm_layer(hidden_features) if norm_layer is not None else nn.Identity()\n",
    "        self.fc2 = linear_layer(hidden_features, out_features, bias=bias[1])\n",
    "        self.drop2 = nn.Dropout(drop_probs[1])\n",
    "\n",
    "    def forward(self, x):\n",
    "        if self.use_conv:\n",
    "            x = x.permute(0, -1, -2)\n",
    "        x = self.fc1(x)\n",
    "        x = self.act(x)\n",
    "        x = self.drop1(x)\n",
    "        x = self.norm(x)\n",
    "        x = self.fc2(x)\n",
    "        x = self.drop2(x)\n",
    "        if self.use_conv:\n",
    "            x = x.permute(0, -1, -2)\n",
    "        return x"
   ]
  },
  {
   "cell_type": "code",
   "execution_count": 5,
   "id": "ab1d9cda-caf9-41f8-8643-c3274ad2732c",
   "metadata": {
    "tags": []
   },
   "outputs": [],
   "source": [
    "model_conv=Mlp(512, 2048, use_conv=True)\n",
    "model=Mlp(512, 2048)"
   ]
  },
  {
   "cell_type": "code",
   "execution_count": 7,
   "id": "b649aec8-2db2-443a-933e-a85946c8ef57",
   "metadata": {
    "tags": []
   },
   "outputs": [
    {
     "name": "stdout",
     "output_type": "stream",
     "text": [
      "[INFO] Register count_linear() for <class 'torch.nn.modules.linear.Linear'>.\n",
      "[INFO] Register zero_ops() for <class 'torch.nn.modules.dropout.Dropout'>.\n"
     ]
    },
    {
     "data": {
      "text/plain": [
       "('.102.760448M', '.2.099712M')"
      ]
     },
     "execution_count": 7,
     "metadata": {},
     "output_type": "execute_result"
    }
   ],
   "source": [
    "img = torch.rand((1, 49, 512))\n",
    "f, p = profile(model, inputs=(img,))\n",
    "clever_format([f, p], '.%3f')"
   ]
  },
  {
   "cell_type": "code",
   "execution_count": 8,
   "id": "094872e6-9596-4cb0-b2f7-7718ba0359f3",
   "metadata": {
    "tags": []
   },
   "outputs": [
    {
     "name": "stdout",
     "output_type": "stream",
     "text": [
      "[INFO] Register count_convNd() for <class 'torch.nn.modules.conv.Conv1d'>.\n",
      "[INFO] Register zero_ops() for <class 'torch.nn.modules.dropout.Dropout'>.\n"
     ]
    },
    {
     "data": {
      "text/plain": [
       "('.102.760448M', '.2.099712M')"
      ]
     },
     "execution_count": 8,
     "metadata": {},
     "output_type": "execute_result"
    }
   ],
   "source": [
    "f, p = profile(model_conv, inputs=(img,))\n",
    "clever_format([f, p], '.%3f')"
   ]
  },
  {
   "cell_type": "code",
   "execution_count": null,
   "id": "4172e3a6-4c0c-4814-bb17-242db29d0a8d",
   "metadata": {},
   "outputs": [],
   "source": [
    "from .CAE import ClassAttentionBlock"
   ]
  }
 ],
 "metadata": {
  "kernelspec": {
   "display_name": "Python 3 (ipykernel)",
   "language": "python",
   "name": "python3"
  },
  "language_info": {
   "codemirror_mode": {
    "name": "ipython",
    "version": 3
   },
   "file_extension": ".py",
   "mimetype": "text/x-python",
   "name": "python",
   "nbconvert_exporter": "python",
   "pygments_lexer": "ipython3",
   "version": "3.9.13"
  }
 },
 "nbformat": 4,
 "nbformat_minor": 5
}
